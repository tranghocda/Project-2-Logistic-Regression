{
 "cells": [
  {
   "cell_type": "markdown",
   "metadata": {},
   "source": [
    "### Import Libraries"
   ]
  },
  {
   "cell_type": "code",
   "execution_count": 1,
   "metadata": {},
   "outputs": [],
   "source": [
    "import pandas as pd\n",
    "import numpy as np\n",
    "from sklearn.linear_model import LogisticRegression\n",
    "from sklearn.model_selection import train_test_split\n",
    "from sklearn.metrics import confusion_matrix\n",
    "from sklearn.metrics import classification_report"
   ]
  },
  {
   "cell_type": "markdown",
   "metadata": {},
   "source": [
    "### The Data\n",
    "##### Let's start by reading in the cr_loan_clean.csv file into a pandas dataframe."
   ]
  },
  {
   "cell_type": "code",
   "execution_count": 2,
   "metadata": {},
   "outputs": [],
   "source": [
    "cr_loan_clean = pd.read_csv('/Users/batch/Desktop/python/study/cr_loan_clean.csv')"
   ]
  },
  {
   "cell_type": "markdown",
   "metadata": {},
   "source": [
    "#### One-hot encode the non-numeric columns\n",
    "##### Create two data sets for numeric and non-numeric data"
   ]
  },
  {
   "cell_type": "code",
   "execution_count": 3,
   "metadata": {},
   "outputs": [],
   "source": [
    "cred_num = cr_loan_clean.select_dtypes(exclude=['object'])\n",
    "cred_str = cr_loan_clean.select_dtypes(include=['object'])"
   ]
  },
  {
   "cell_type": "markdown",
   "metadata": {},
   "source": [
    "##### One-hot encode the non-numeric columns"
   ]
  },
  {
   "cell_type": "code",
   "execution_count": 4,
   "metadata": {},
   "outputs": [],
   "source": [
    "cred_str_onehot = pd.get_dummies(cred_str)"
   ]
  },
  {
   "cell_type": "markdown",
   "metadata": {},
   "source": [
    "##### Union the one-hot encoded columns to the numeric ones"
   ]
  },
  {
   "cell_type": "code",
   "execution_count": 5,
   "metadata": {},
   "outputs": [],
   "source": [
    "cr_loan_modeling = pd.concat([cred_num,cred_str_onehot], axis=1)"
   ]
  },
  {
   "cell_type": "code",
   "execution_count": 6,
   "metadata": {},
   "outputs": [
    {
     "name": "stdout",
     "output_type": "stream",
     "text": [
      "Index(['person_age', 'person_income', 'person_emp_length', 'loan_amnt',\n",
      "       'loan_int_rate', 'loan_status', 'loan_percent_income',\n",
      "       'cb_person_cred_hist_length', 'person_home_ownership_MORTGAGE',\n",
      "       'person_home_ownership_OTHER', 'person_home_ownership_OWN',\n",
      "       'person_home_ownership_RENT', 'loan_intent_DEBTCONSOLIDATION',\n",
      "       'loan_intent_EDUCATION', 'loan_intent_HOMEIMPROVEMENT',\n",
      "       'loan_intent_MEDICAL', 'loan_intent_PERSONAL', 'loan_intent_VENTURE',\n",
      "       'loan_grade_A', 'loan_grade_B', 'loan_grade_C', 'loan_grade_D',\n",
      "       'loan_grade_E', 'loan_grade_F', 'loan_grade_G',\n",
      "       'cb_person_default_on_file_N', 'cb_person_default_on_file_Y'],\n",
      "      dtype='object')\n"
     ]
    }
   ],
   "source": [
    "print(cr_loan_modeling.columns)"
   ]
  },
  {
   "cell_type": "markdown",
   "metadata": {},
   "source": [
    "### Create the training and test sets"
   ]
  },
  {
   "cell_type": "code",
   "execution_count": 7,
   "metadata": {},
   "outputs": [],
   "source": [
    "X = cr_loan_modeling.drop('loan_status', axis = 1)\n",
    "y = cr_loan_modeling[['loan_status']]\n",
    "X_train, X_test, y_train, y_test = train_test_split(X, y, test_size =.4, random_state = 123)"
   ]
  },
  {
   "cell_type": "markdown",
   "metadata": {},
   "source": [
    "### Train the logistic regression model on the training data"
   ]
  },
  {
   "cell_type": "code",
   "execution_count": null,
   "metadata": {},
   "outputs": [],
   "source": [
    "logistic = LogisticRegression(solver='lbfgs',max_iter=20000).fit(X_train, np.ravel(y_train))"
   ]
  },
  {
   "cell_type": "markdown",
   "metadata": {},
   "source": [
    "### Print the coefficients of the model"
   ]
  },
  {
   "cell_type": "code",
   "execution_count": 15,
   "metadata": {},
   "outputs": [
    {
     "name": "stdout",
     "output_type": "stream",
     "text": [
      "[[-2.76608810e-03 -1.32821072e-06 -1.31054624e-02 -7.98602709e-05\n",
      "   7.15810051e-02  1.14013214e+01 -6.84688443e-03 -2.40858686e-01\n",
      "   2.40267435e-01 -1.68697005e+00  5.92593955e-01  3.22120128e-01\n",
      "  -5.36806400e-01  2.67222247e-01  7.91367311e-02 -3.20560505e-01\n",
      "  -9.06079655e-01 -2.04103760e+00 -1.92299735e+00 -1.77600441e+00\n",
      "   2.42143942e-01  3.81973020e-01  2.06095474e+00  1.96000043e+00\n",
      "  -5.83036776e-01 -5.11930811e-01]]\n"
     ]
    }
   ],
   "source": [
    "print(logistic.coef_)"
   ]
  },
  {
   "cell_type": "markdown",
   "metadata": {},
   "source": [
    "### Print the accuracy score the model"
   ]
  },
  {
   "cell_type": "code",
   "execution_count": 18,
   "metadata": {},
   "outputs": [
    {
     "name": "stdout",
     "output_type": "stream",
     "text": [
      "0.8659198913781398\n"
     ]
    }
   ],
   "source": [
    "print(logistic.score(X_test, y_test))"
   ]
  },
  {
   "cell_type": "markdown",
   "metadata": {},
   "source": [
    "### Create predictions of probability for loan status using test data"
   ]
  },
  {
   "cell_type": "code",
   "execution_count": null,
   "metadata": {},
   "outputs": [],
   "source": [
    "prediction = logistic.predict_proba(X_test)\n",
    "print(prediction)"
   ]
  },
  {
   "cell_type": "markdown",
   "metadata": {},
   "source": [
    "### Create a dataframe for the probabilities of default"
   ]
  },
  {
   "cell_type": "code",
   "execution_count": 31,
   "metadata": {},
   "outputs": [
    {
     "name": "stdout",
     "output_type": "stream",
     "text": [
      "       prob_default\n",
      "0          0.630738\n",
      "1          0.818450\n",
      "2          0.091794\n",
      "3          0.067427\n",
      "4          0.053204\n",
      "...             ...\n",
      "11779      0.012176\n",
      "11780      0.088304\n",
      "11781      0.467677\n",
      "11782      0.217006\n",
      "11783      0.054784\n",
      "\n",
      "[11784 rows x 1 columns]\n"
     ]
    }
   ],
   "source": [
    "prediction_df = pd.DataFrame(prediction[:,1], columns = ['prob_default'])\n",
    "print(prediction_df)"
   ]
  },
  {
   "cell_type": "markdown",
   "metadata": {},
   "source": [
    "### Threshold\n",
    "##### Set the threshold for defaults to 0.5"
   ]
  },
  {
   "cell_type": "code",
   "execution_count": 27,
   "metadata": {},
   "outputs": [
    {
     "name": "stdout",
     "output_type": "stream",
     "text": [
      "       prob_default  loan_status\n",
      "0          0.630738            1\n",
      "1          0.818450            1\n",
      "2          0.091794            0\n",
      "3          0.067427            0\n",
      "4          0.053204            0\n",
      "...             ...          ...\n",
      "11779      0.012176            0\n",
      "11780      0.088304            0\n",
      "11781      0.467677            0\n",
      "11782      0.217006            0\n",
      "11783      0.054784            0\n",
      "\n",
      "[11784 rows x 2 columns]\n"
     ]
    }
   ],
   "source": [
    "prediction_df[\"loan_status\"] = prediction_df[\"prob_default\"].apply(lambda x: 1 if x > 0.5 else 0)\n",
    "print(prediction_df)"
   ]
  },
  {
   "cell_type": "markdown",
   "metadata": {},
   "source": [
    "##### Print the confusion matrix"
   ]
  },
  {
   "cell_type": "code",
   "execution_count": 28,
   "metadata": {},
   "outputs": [
    {
     "name": "stdout",
     "output_type": "stream",
     "text": [
      "[[8776  422]\n",
      " [1158 1428]]\n"
     ]
    }
   ],
   "source": [
    "print(confusion_matrix(y_test,prediction_df['loan_status']))"
   ]
  },
  {
   "cell_type": "markdown",
   "metadata": {},
   "source": [
    "##### Set the threshold for defaults to 0.4 and print the confusion matrix"
   ]
  },
  {
   "cell_type": "code",
   "execution_count": 24,
   "metadata": {},
   "outputs": [
    {
     "name": "stdout",
     "output_type": "stream",
     "text": [
      "[[8524  674]\n",
      " [ 918 1668]]\n"
     ]
    }
   ],
   "source": [
    "prediction_df[\"loan_status\"] = prediction_df[\"prob_default\"].apply(lambda x: 1 if x > 0.4 else 0)\n",
    "print(confusion_matrix(y_test,prediction_df[\"loan_status\"]))"
   ]
  },
  {
   "cell_type": "markdown",
   "metadata": {},
   "source": [
    "#### Therefore, we choose the 0.4 threshold as the recall(Default) of 0.4 threshold > that of 0.5 threshold."
   ]
  },
  {
   "cell_type": "markdown",
   "metadata": {},
   "source": [
    "### Print the row counts for each loan status"
   ]
  },
  {
   "cell_type": "code",
   "execution_count": 29,
   "metadata": {},
   "outputs": [
    {
     "name": "stdout",
     "output_type": "stream",
     "text": [
      "loan_status\n",
      "0    9934\n",
      "1    1850\n",
      "Name: count, dtype: int64\n"
     ]
    }
   ],
   "source": [
    "print(prediction_df[\"loan_status\"].value_counts())"
   ]
  },
  {
   "cell_type": "markdown",
   "metadata": {},
   "source": [
    "### Print the classification report"
   ]
  },
  {
   "cell_type": "code",
   "execution_count": 30,
   "metadata": {},
   "outputs": [
    {
     "name": "stdout",
     "output_type": "stream",
     "text": [
      "              precision    recall  f1-score   support\n",
      "\n",
      " Non-Default       0.88      0.95      0.92      9198\n",
      "     Default       0.77      0.55      0.64      2586\n",
      "\n",
      "    accuracy                           0.87     11784\n",
      "   macro avg       0.83      0.75      0.78     11784\n",
      "weighted avg       0.86      0.87      0.86     11784\n",
      "\n"
     ]
    }
   ],
   "source": [
    "target_names = ['Non-Default', 'Default']\n",
    "print(classification_report(y_test, prediction_df['loan_status'], target_names=target_names))"
   ]
  }
 ],
 "metadata": {
  "kernelspec": {
   "display_name": "study",
   "language": "python",
   "name": "python3"
  },
  "language_info": {
   "codemirror_mode": {
    "name": "ipython",
    "version": 3
   },
   "file_extension": ".py",
   "mimetype": "text/x-python",
   "name": "python",
   "nbconvert_exporter": "python",
   "pygments_lexer": "ipython3",
   "version": "3.12.2"
  }
 },
 "nbformat": 4,
 "nbformat_minor": 2
}
